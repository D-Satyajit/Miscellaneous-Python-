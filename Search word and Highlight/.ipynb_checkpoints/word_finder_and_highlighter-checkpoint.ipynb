{
 "cells": [
  {
   "cell_type": "markdown",
   "metadata": {},
   "source": [
    "### This is the program for searching a particular word among several file present in directory and sub-directories. This program takes these files as a input and returns the hightlighted word in a _'.docx'_ word file.\n",
    "### Currently this program is tested on .txt, .dat and .docx files. And the sample words can be (case sensitive) :\n",
    "* Apollo\n",
    "* Cricket\n",
    "* Bird\n",
    "* Dog\n",
    "* Machine Learning"
   ]
  },
  {
   "cell_type": "code",
   "execution_count": null,
   "metadata": {},
   "outputs": [],
   "source": [
    "# Install\n",
    "# !pip3 install python-docx "
   ]
  },
  {
   "cell_type": "code",
   "execution_count": 1,
   "metadata": {},
   "outputs": [],
   "source": [
    "import os\n",
    "import docx\n",
    "from docx import Document\n",
    "from numpy import loadtxt\n",
    "from docx.enum.text import WD_COLOR_INDEX"
   ]
  },
  {
   "cell_type": "code",
   "execution_count": 2,
   "metadata": {},
   "outputs": [],
   "source": [
    "input_dir_path = \"./input_files/\" # Input Path\n",
    "output_dir_path = \"./output_files/\"  # Output Path\n",
    "file_type = ['.txt', '.docx' ,'.dat'] # Give the file exren\n",
    "search_word = \"Apollo\" # Word to be searched - case sensitive"
   ]
  },
  {
   "cell_type": "code",
   "execution_count": 3,
   "metadata": {},
   "outputs": [],
   "source": [
    "class file_reader:\n",
    "    \"\"\"\n",
    "    The methods in the class is used to read the diffferent types of files.\n",
    "    Currently it has two methods that are used to read the .txt, .dat and .docx files.\n",
    "    \"\"\"\n",
    "\n",
    "    def __init__(self):\n",
    "        pass\n",
    "    \n",
    "    # Read text file\n",
    "    def read_txt_file(self, file_path):   \n",
    "        text_file = open(file_path, \"r\")\n",
    "        lines = text_file.read()\n",
    "        return lines\n",
    "    \n",
    "    # Read docx file\n",
    "    def read_docx_file(self, file_path):\n",
    "        docment = docx.Document(file_path)\n",
    "        fullText = []\n",
    "        for para in docment.paragraphs:\n",
    "            fullText.append(para.text)\n",
    "        return ' '.join(fullText)\n",
    "        \n",
    "\n",
    "# This function is used to read the files and files from directory and sub directory.\n",
    "def find_files_in_dir_and_subdir(path, path_list = [], sub_folders = True):\n",
    "        try:   # Raising permission exception or in case file is not readable\n",
    "            for entry in os.scandir(path):\n",
    "                if entry.is_file():\n",
    "                    path_list.append(entry.path)\n",
    "                elif entry.is_dir() and sub_folders:   # if its a directory, then repeat process with recursive function\n",
    "                    path_list = find_files_in_dir_and_subdir(entry.path,  path_list, sub_folders)\n",
    "        except OSError:\n",
    "            print('Cannot access ' + path +' Probably a permissions error')\n",
    "\n",
    "        return path_list\n",
    "        \n",
    "def make_temp_doc(text):\n",
    "    my_doc = Document()\n",
    "    my_para = my_doc.add_paragraph(text)\n",
    "    my_doc.save('temp.docx')\n",
    "\n",
    "# This function is used to read the input text and highlight the word\n",
    "def text_hightlighter(temp_docx, saving_docx_file_path, highlight_text):\n",
    "    doc = Document(temp_docx)\n",
    "    doc2 = Document()\n",
    "    \n",
    "    # Get the first paragraph's text\n",
    "    p1_text = doc.paragraphs[0].text\n",
    "\n",
    "    # Create a new paragraph with highlighted word\n",
    "    p2 = doc2.add_paragraph()\n",
    "    \n",
    "    substrings = p1_text.split(highlight_text)\n",
    "    \n",
    "    for substring in substrings:\n",
    "        p2.add_run(substring)\n",
    "        font = p2.add_run(highlight_text).font\n",
    "        font.highlight_color = WD_COLOR_INDEX.YELLOW # Give Colour to be highlighted\n",
    "    p2.add_run(substrings[-1])\n",
    "\n",
    "    # Save document under new name\n",
    "    saving_docx_file_path = saving_docx_file_path + '.docx'\n",
    "    doc2.save(saving_docx_file_path)\n",
    "    # Remove the temp.docx file\n",
    "    !rm -rf temp.docx\n"
   ]
  },
  {
   "cell_type": "code",
   "execution_count": 4,
   "metadata": {
    "scrolled": true
   },
   "outputs": [],
   "source": [
    "\n",
    "\n",
    "file_reader_obj = file_reader() # Call the file reader class\n",
    "\n",
    "# Read all the files\n",
    "file_list = find_files_in_dir_and_subdir(input_dir_path)\n",
    "\n",
    "\n",
    "for file in file_list:\n",
    "#     print(file)\n",
    "    # Check if it is a proper file or not\n",
    "    if any(file.endswith(ext) for ext in file_type):\n",
    "        \n",
    "        \n",
    "        output_file_name = file.split('.')[1] \n",
    "        output_path_and_name = output_dir_path+output_file_name.split('/')[-1]\n",
    "        \n",
    "        if file.endswith('.txt'):\n",
    "            text = file_reader_obj.read_txt_file(file)\n",
    "            if search_word in text:\n",
    "                make_temp_doc(text)\n",
    "                text_hightlighter('temp.docx', output_path_and_name ,search_word)\n",
    "                \n",
    "        elif file.endswith('.docx'):\n",
    "            docx_text = file_reader_obj.read_docx_file(file)\n",
    "            if search_word in docx_text:\n",
    "                make_temp_doc(docx_text)\n",
    "                text_hightlighter('temp.docx', output_path_and_name ,search_word)"
   ]
  },
  {
   "cell_type": "code",
   "execution_count": null,
   "metadata": {},
   "outputs": [],
   "source": []
  },
  {
   "cell_type": "code",
   "execution_count": null,
   "metadata": {},
   "outputs": [],
   "source": []
  },
  {
   "cell_type": "code",
   "execution_count": null,
   "metadata": {},
   "outputs": [],
   "source": []
  }
 ],
 "metadata": {
  "kernelspec": {
   "display_name": "Python 3",
   "language": "python",
   "name": "python3"
  },
  "language_info": {
   "codemirror_mode": {
    "name": "ipython",
    "version": 3
   },
   "file_extension": ".py",
   "mimetype": "text/x-python",
   "name": "python",
   "nbconvert_exporter": "python",
   "pygments_lexer": "ipython3",
   "version": "3.6.8"
  }
 },
 "nbformat": 4,
 "nbformat_minor": 2
}
